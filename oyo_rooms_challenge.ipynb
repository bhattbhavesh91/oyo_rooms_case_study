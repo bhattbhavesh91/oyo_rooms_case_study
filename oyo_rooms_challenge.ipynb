{
 "cells": [
  {
   "cell_type": "code",
   "execution_count": 1,
   "metadata": {
    "collapsed": true
   },
   "outputs": [],
   "source": [
    "import numpy as np\n",
    "import pandas as pd"
   ]
  },
  {
   "cell_type": "code",
   "execution_count": 2,
   "metadata": {
    "collapsed": true
   },
   "outputs": [],
   "source": [
    "def read_csv_files(filepath):\n",
    "    df = pd.read_csv(filepath)\n",
    "    return df"
   ]
  },
  {
   "cell_type": "code",
   "execution_count": 3,
   "metadata": {
    "collapsed": true
   },
   "outputs": [],
   "source": [
    "def convert_object_to_date(sample_date_text):\n",
    "    return pd.to_datetime(sample_date_text, format='%m/%d/%Y')"
   ]
  },
  {
   "cell_type": "code",
   "execution_count": 4,
   "metadata": {
    "collapsed": true
   },
   "outputs": [],
   "source": [
    "jan_df  = read_csv_files('TableA.csv')\n",
    "feb_df  = read_csv_files('TableB.csv')\n",
    "mar_df  = read_csv_files('TableC.csv')\n",
    "city_df = read_csv_files('TableD.csv')"
   ]
  },
  {
   "cell_type": "code",
   "execution_count": 5,
   "metadata": {},
   "outputs": [
    {
     "data": {
      "text/html": [
       "<div>\n",
       "<style>\n",
       "    .dataframe thead tr:only-child th {\n",
       "        text-align: right;\n",
       "    }\n",
       "\n",
       "    .dataframe thead th {\n",
       "        text-align: left;\n",
       "    }\n",
       "\n",
       "    .dataframe tbody tr th {\n",
       "        vertical-align: top;\n",
       "    }\n",
       "</style>\n",
       "<table border=\"1\" class=\"dataframe\">\n",
       "  <thead>\n",
       "    <tr style=\"text-align: right;\">\n",
       "      <th></th>\n",
       "      <th>booking_id</th>\n",
       "      <th>customer_id</th>\n",
       "      <th>source</th>\n",
       "      <th>status</th>\n",
       "      <th>checkin</th>\n",
       "      <th>checkout</th>\n",
       "      <th>oyo_rooms</th>\n",
       "      <th>hotel_id</th>\n",
       "      <th>amount</th>\n",
       "      <th>discount</th>\n",
       "      <th>date</th>\n",
       "    </tr>\n",
       "  </thead>\n",
       "  <tbody>\n",
       "    <tr>\n",
       "      <th>0</th>\n",
       "      <td>1</td>\n",
       "      <td>189314</td>\n",
       "      <td>4</td>\n",
       "      <td>3</td>\n",
       "      <td>2/4/2017</td>\n",
       "      <td>2/5/2017</td>\n",
       "      <td>1</td>\n",
       "      <td>252</td>\n",
       "      <td>3160</td>\n",
       "      <td>669.0</td>\n",
       "      <td>1/31/2017</td>\n",
       "    </tr>\n",
       "    <tr>\n",
       "      <th>1</th>\n",
       "      <td>2</td>\n",
       "      <td>46268</td>\n",
       "      <td>4</td>\n",
       "      <td>3</td>\n",
       "      <td>1/27/2017</td>\n",
       "      <td>1/28/2017</td>\n",
       "      <td>1</td>\n",
       "      <td>252</td>\n",
       "      <td>1893</td>\n",
       "      <td>481.0</td>\n",
       "      <td>1/27/2017</td>\n",
       "    </tr>\n",
       "    <tr>\n",
       "      <th>2</th>\n",
       "      <td>3</td>\n",
       "      <td>55271</td>\n",
       "      <td>3</td>\n",
       "      <td>2</td>\n",
       "      <td>1/25/2017</td>\n",
       "      <td>1/26/2017</td>\n",
       "      <td>1</td>\n",
       "      <td>252</td>\n",
       "      <td>2188</td>\n",
       "      <td>463.0</td>\n",
       "      <td>1/25/2017</td>\n",
       "    </tr>\n",
       "    <tr>\n",
       "      <th>3</th>\n",
       "      <td>4</td>\n",
       "      <td>170766</td>\n",
       "      <td>4</td>\n",
       "      <td>3</td>\n",
       "      <td>1/26/2017</td>\n",
       "      <td>1/27/2017</td>\n",
       "      <td>1</td>\n",
       "      <td>252</td>\n",
       "      <td>3054</td>\n",
       "      <td>646.0</td>\n",
       "      <td>1/26/2017</td>\n",
       "    </tr>\n",
       "    <tr>\n",
       "      <th>4</th>\n",
       "      <td>5</td>\n",
       "      <td>170766</td>\n",
       "      <td>4</td>\n",
       "      <td>3</td>\n",
       "      <td>1/26/2017</td>\n",
       "      <td>1/28/2017</td>\n",
       "      <td>1</td>\n",
       "      <td>252</td>\n",
       "      <td>6107</td>\n",
       "      <td>1293.0</td>\n",
       "      <td>1/25/2017</td>\n",
       "    </tr>\n",
       "  </tbody>\n",
       "</table>\n",
       "</div>"
      ],
      "text/plain": [
       "   booking_id  customer_id  source  status    checkin   checkout  oyo_rooms  \\\n",
       "0           1       189314       4       3   2/4/2017   2/5/2017          1   \n",
       "1           2        46268       4       3  1/27/2017  1/28/2017          1   \n",
       "2           3        55271       3       2  1/25/2017  1/26/2017          1   \n",
       "3           4       170766       4       3  1/26/2017  1/27/2017          1   \n",
       "4           5       170766       4       3  1/26/2017  1/28/2017          1   \n",
       "\n",
       "   hotel_id  amount  discount       date  \n",
       "0       252    3160     669.0  1/31/2017  \n",
       "1       252    1893     481.0  1/27/2017  \n",
       "2       252    2188     463.0  1/25/2017  \n",
       "3       252    3054     646.0  1/26/2017  \n",
       "4       252    6107    1293.0  1/25/2017  "
      ]
     },
     "execution_count": 5,
     "metadata": {},
     "output_type": "execute_result"
    }
   ],
   "source": [
    "jan_df.head()"
   ]
  },
  {
   "cell_type": "code",
   "execution_count": 6,
   "metadata": {},
   "outputs": [
    {
     "name": "stdout",
     "output_type": "stream",
     "text": [
      "(928, 11)\n"
     ]
    }
   ],
   "source": [
    "print feb_df.shape"
   ]
  },
  {
   "cell_type": "code",
   "execution_count": 7,
   "metadata": {},
   "outputs": [
    {
     "data": {
      "text/html": [
       "<div>\n",
       "<style>\n",
       "    .dataframe thead tr:only-child th {\n",
       "        text-align: right;\n",
       "    }\n",
       "\n",
       "    .dataframe thead th {\n",
       "        text-align: left;\n",
       "    }\n",
       "\n",
       "    .dataframe tbody tr th {\n",
       "        vertical-align: top;\n",
       "    }\n",
       "</style>\n",
       "<table border=\"1\" class=\"dataframe\">\n",
       "  <thead>\n",
       "    <tr style=\"text-align: right;\">\n",
       "      <th></th>\n",
       "      <th>booking_id</th>\n",
       "      <th>customer_id</th>\n",
       "      <th>source</th>\n",
       "      <th>status</th>\n",
       "      <th>checkin</th>\n",
       "      <th>checkout</th>\n",
       "      <th>oyo_rooms</th>\n",
       "      <th>hotel_id</th>\n",
       "      <th>amount</th>\n",
       "      <th>discount</th>\n",
       "      <th>date</th>\n",
       "    </tr>\n",
       "  </thead>\n",
       "  <tbody>\n",
       "    <tr>\n",
       "      <th>0</th>\n",
       "      <td>1001</td>\n",
       "      <td>32661</td>\n",
       "      <td>4</td>\n",
       "      <td>2</td>\n",
       "      <td>2/19/2017</td>\n",
       "      <td>2/20/2017</td>\n",
       "      <td>1</td>\n",
       "      <td>252</td>\n",
       "      <td>2506</td>\n",
       "      <td>530.0</td>\n",
       "      <td>2/19/2017</td>\n",
       "    </tr>\n",
       "    <tr>\n",
       "      <th>1</th>\n",
       "      <td>1002</td>\n",
       "      <td>77901</td>\n",
       "      <td>1</td>\n",
       "      <td>2</td>\n",
       "      <td>2/17/2017</td>\n",
       "      <td>2/18/2017</td>\n",
       "      <td>1</td>\n",
       "      <td>252</td>\n",
       "      <td>2573</td>\n",
       "      <td>545.0</td>\n",
       "      <td>2/14/2017</td>\n",
       "    </tr>\n",
       "    <tr>\n",
       "      <th>2</th>\n",
       "      <td>1003</td>\n",
       "      <td>36635</td>\n",
       "      <td>4</td>\n",
       "      <td>2</td>\n",
       "      <td>2/16/2017</td>\n",
       "      <td>2/17/2017</td>\n",
       "      <td>1</td>\n",
       "      <td>252</td>\n",
       "      <td>2616</td>\n",
       "      <td>553.0</td>\n",
       "      <td>2/15/2017</td>\n",
       "    </tr>\n",
       "    <tr>\n",
       "      <th>3</th>\n",
       "      <td>1004</td>\n",
       "      <td>36635</td>\n",
       "      <td>4</td>\n",
       "      <td>2</td>\n",
       "      <td>2/14/2017</td>\n",
       "      <td>2/16/2017</td>\n",
       "      <td>1</td>\n",
       "      <td>252</td>\n",
       "      <td>5478</td>\n",
       "      <td>1159.0</td>\n",
       "      <td>2/11/2017</td>\n",
       "    </tr>\n",
       "    <tr>\n",
       "      <th>4</th>\n",
       "      <td>1005</td>\n",
       "      <td>193104</td>\n",
       "      <td>4</td>\n",
       "      <td>2</td>\n",
       "      <td>2/12/2017</td>\n",
       "      <td>2/14/2017</td>\n",
       "      <td>1</td>\n",
       "      <td>252</td>\n",
       "      <td>5502</td>\n",
       "      <td>1164.0</td>\n",
       "      <td>2/12/2017</td>\n",
       "    </tr>\n",
       "  </tbody>\n",
       "</table>\n",
       "</div>"
      ],
      "text/plain": [
       "   booking_id  customer_id  source  status    checkin   checkout  oyo_rooms  \\\n",
       "0        1001        32661       4       2  2/19/2017  2/20/2017          1   \n",
       "1        1002        77901       1       2  2/17/2017  2/18/2017          1   \n",
       "2        1003        36635       4       2  2/16/2017  2/17/2017          1   \n",
       "3        1004        36635       4       2  2/14/2017  2/16/2017          1   \n",
       "4        1005       193104       4       2  2/12/2017  2/14/2017          1   \n",
       "\n",
       "   hotel_id  amount  discount       date  \n",
       "0       252    2506     530.0  2/19/2017  \n",
       "1       252    2573     545.0  2/14/2017  \n",
       "2       252    2616     553.0  2/15/2017  \n",
       "3       252    5478    1159.0  2/11/2017  \n",
       "4       252    5502    1164.0  2/12/2017  "
      ]
     },
     "execution_count": 7,
     "metadata": {},
     "output_type": "execute_result"
    }
   ],
   "source": [
    "feb_df.head()"
   ]
  },
  {
   "cell_type": "code",
   "execution_count": 8,
   "metadata": {},
   "outputs": [
    {
     "data": {
      "text/html": [
       "<div>\n",
       "<style>\n",
       "    .dataframe thead tr:only-child th {\n",
       "        text-align: right;\n",
       "    }\n",
       "\n",
       "    .dataframe thead th {\n",
       "        text-align: left;\n",
       "    }\n",
       "\n",
       "    .dataframe tbody tr th {\n",
       "        vertical-align: top;\n",
       "    }\n",
       "</style>\n",
       "<table border=\"1\" class=\"dataframe\">\n",
       "  <thead>\n",
       "    <tr style=\"text-align: right;\">\n",
       "      <th></th>\n",
       "      <th>booking_id</th>\n",
       "      <th>customer_id</th>\n",
       "      <th>source</th>\n",
       "      <th>status</th>\n",
       "      <th>checkin</th>\n",
       "      <th>checkout</th>\n",
       "      <th>oyo_rooms</th>\n",
       "      <th>hotel_id</th>\n",
       "      <th>amount</th>\n",
       "      <th>discount</th>\n",
       "      <th>date</th>\n",
       "    </tr>\n",
       "  </thead>\n",
       "  <tbody>\n",
       "    <tr>\n",
       "      <th>0</th>\n",
       "      <td>2001</td>\n",
       "      <td>189314</td>\n",
       "      <td>4</td>\n",
       "      <td>3</td>\n",
       "      <td>4/2/2017</td>\n",
       "      <td>4/3/2017</td>\n",
       "      <td>1</td>\n",
       "      <td>252</td>\n",
       "      <td>3215</td>\n",
       "      <td>680.0</td>\n",
       "      <td>3/26/2017</td>\n",
       "    </tr>\n",
       "    <tr>\n",
       "      <th>1</th>\n",
       "      <td>2002</td>\n",
       "      <td>77901</td>\n",
       "      <td>4</td>\n",
       "      <td>2</td>\n",
       "      <td>4/1/2017</td>\n",
       "      <td>4/2/2017</td>\n",
       "      <td>1</td>\n",
       "      <td>252</td>\n",
       "      <td>2675</td>\n",
       "      <td>567.0</td>\n",
       "      <td>3/31/2017</td>\n",
       "    </tr>\n",
       "    <tr>\n",
       "      <th>2</th>\n",
       "      <td>2003</td>\n",
       "      <td>199763</td>\n",
       "      <td>4</td>\n",
       "      <td>3</td>\n",
       "      <td>3/24/2017</td>\n",
       "      <td>3/25/2017</td>\n",
       "      <td>1</td>\n",
       "      <td>252</td>\n",
       "      <td>2652</td>\n",
       "      <td>561.0</td>\n",
       "      <td>3/24/2017</td>\n",
       "    </tr>\n",
       "    <tr>\n",
       "      <th>3</th>\n",
       "      <td>2004</td>\n",
       "      <td>162631</td>\n",
       "      <td>0</td>\n",
       "      <td>2</td>\n",
       "      <td>3/21/2017</td>\n",
       "      <td>3/22/2017</td>\n",
       "      <td>1</td>\n",
       "      <td>252</td>\n",
       "      <td>3366</td>\n",
       "      <td>740.0</td>\n",
       "      <td>3/20/2017</td>\n",
       "    </tr>\n",
       "    <tr>\n",
       "      <th>4</th>\n",
       "      <td>2005</td>\n",
       "      <td>119697</td>\n",
       "      <td>2</td>\n",
       "      <td>2</td>\n",
       "      <td>3/17/2017</td>\n",
       "      <td>3/18/2017</td>\n",
       "      <td>2</td>\n",
       "      <td>252</td>\n",
       "      <td>6399</td>\n",
       "      <td>1354.0</td>\n",
       "      <td>3/17/2017</td>\n",
       "    </tr>\n",
       "  </tbody>\n",
       "</table>\n",
       "</div>"
      ],
      "text/plain": [
       "   booking_id  customer_id  source  status    checkin   checkout  oyo_rooms  \\\n",
       "0        2001       189314       4       3   4/2/2017   4/3/2017          1   \n",
       "1        2002        77901       4       2   4/1/2017   4/2/2017          1   \n",
       "2        2003       199763       4       3  3/24/2017  3/25/2017          1   \n",
       "3        2004       162631       0       2  3/21/2017  3/22/2017          1   \n",
       "4        2005       119697       2       2  3/17/2017  3/18/2017          2   \n",
       "\n",
       "   hotel_id  amount  discount       date  \n",
       "0       252    3215     680.0  3/26/2017  \n",
       "1       252    2675     567.0  3/31/2017  \n",
       "2       252    2652     561.0  3/24/2017  \n",
       "3       252    3366     740.0  3/20/2017  \n",
       "4       252    6399    1354.0  3/17/2017  "
      ]
     },
     "execution_count": 8,
     "metadata": {},
     "output_type": "execute_result"
    }
   ],
   "source": [
    "mar_df.head()"
   ]
  },
  {
   "cell_type": "code",
   "execution_count": 9,
   "metadata": {},
   "outputs": [
    {
     "name": "stdout",
     "output_type": "stream",
     "text": [
      "   hotel_id     city\n",
      "0         3  Gurgaon\n",
      "1        13  Gurgaon\n",
      "2        16  Gurgaon\n",
      "3        21  Gurgaon\n",
      "4        25    Delhi\n",
      "(357, 2)\n"
     ]
    }
   ],
   "source": [
    "print city_df.head()\n",
    "print city_df.shape"
   ]
  },
  {
   "cell_type": "code",
   "execution_count": null,
   "metadata": {},
   "outputs": [],
   "source": []
  },
  {
   "cell_type": "code",
   "execution_count": 10,
   "metadata": {
    "collapsed": true
   },
   "outputs": [],
   "source": [
    "merged_feb_df = pd.merge(left=feb_df,right=city_df, left_on='hotel_id', right_on='hotel_id')\n",
    "merged_jan_df = pd.merge(left=jan_df,right=city_df, left_on='hotel_id', right_on='hotel_id')\n",
    "merged_mar_df = pd.merge(left=mar_df,right=city_df, left_on='hotel_id', right_on='hotel_id')"
   ]
  },
  {
   "cell_type": "code",
   "execution_count": 11,
   "metadata": {},
   "outputs": [],
   "source": [
    "merged_jan_df[['date','checkin','checkout']] =  merged_jan_df[['date','checkin','checkout']] \\\n",
    "                                                .apply(convert_object_to_date)\n",
    "merged_jan_df['room_nights'] = merged_jan_df['oyo_rooms']*\\\n",
    "                              ((merged_jan_df['checkout'] - merged_jan_df['checkin']).dt.days)\n",
    "merged_jan_df['avg_price_per_room'] = merged_jan_df['amount'].astype(float)/merged_jan_df['room_nights']"
   ]
  },
  {
   "cell_type": "code",
   "execution_count": 12,
   "metadata": {},
   "outputs": [],
   "source": [
    "merged_feb_df[['date','checkin','checkout']] =  merged_feb_df[['date','checkin','checkout']] \\\n",
    "                                                .apply(convert_object_to_date)\n",
    "merged_feb_df['room_nights'] = merged_feb_df['oyo_rooms']*\\\n",
    "                              ((merged_feb_df['checkout'] - merged_feb_df['checkin']).dt.days)\n",
    "merged_feb_df['avg_price_per_room'] = merged_feb_df['amount'].astype(float)/merged_feb_df['room_nights']"
   ]
  },
  {
   "cell_type": "code",
   "execution_count": 13,
   "metadata": {},
   "outputs": [],
   "source": [
    "merged_mar_df[['date','checkin','checkout']] =  merged_mar_df[['date','checkin','checkout']] \\\n",
    "                                                .apply(convert_object_to_date)\n",
    "merged_mar_df['room_nights'] = merged_mar_df['oyo_rooms']*\\\n",
    "                              ((merged_mar_df['checkout'] - merged_mar_df['checkin']).dt.days)\n",
    "merged_mar_df['avg_price_per_room'] = merged_mar_df['amount'].astype(float)/merged_mar_df['room_nights']"
   ]
  },
  {
   "cell_type": "code",
   "execution_count": 14,
   "metadata": {},
   "outputs": [
    {
     "data": {
      "text/plain": [
       "booking_id            961\n",
       "customer_id           961\n",
       "source                961\n",
       "status                961\n",
       "checkin               961\n",
       "checkout              961\n",
       "oyo_rooms             961\n",
       "hotel_id              961\n",
       "amount                961\n",
       "discount              947\n",
       "date                  961\n",
       "city                  961\n",
       "room_nights           961\n",
       "avg_price_per_room    961\n",
       "dtype: int64"
      ]
     },
     "execution_count": 14,
     "metadata": {},
     "output_type": "execute_result"
    }
   ],
   "source": [
    "merged_mar_df.count()"
   ]
  },
  {
   "cell_type": "code",
   "execution_count": 15,
   "metadata": {},
   "outputs": [
    {
     "name": "stdout",
     "output_type": "stream",
     "text": [
      "(719, 4)\n"
     ]
    },
    {
     "data": {
      "text/html": [
       "<div>\n",
       "<style>\n",
       "    .dataframe thead tr:only-child th {\n",
       "        text-align: right;\n",
       "    }\n",
       "\n",
       "    .dataframe thead th {\n",
       "        text-align: left;\n",
       "    }\n",
       "\n",
       "    .dataframe tbody tr th {\n",
       "        vertical-align: top;\n",
       "    }\n",
       "</style>\n",
       "<table border=\"1\" class=\"dataframe\">\n",
       "  <thead>\n",
       "    <tr style=\"text-align: right;\">\n",
       "      <th></th>\n",
       "      <th>customer_id</th>\n",
       "      <th>total_amt_jan</th>\n",
       "      <th>no_bookings_jan</th>\n",
       "      <th>total_room_nights_jan</th>\n",
       "    </tr>\n",
       "  </thead>\n",
       "  <tbody>\n",
       "    <tr>\n",
       "      <th>0</th>\n",
       "      <td>220</td>\n",
       "      <td>3443</td>\n",
       "      <td>2</td>\n",
       "      <td>2</td>\n",
       "    </tr>\n",
       "    <tr>\n",
       "      <th>1</th>\n",
       "      <td>765</td>\n",
       "      <td>1949</td>\n",
       "      <td>1</td>\n",
       "      <td>1</td>\n",
       "    </tr>\n",
       "    <tr>\n",
       "      <th>2</th>\n",
       "      <td>1864</td>\n",
       "      <td>4288</td>\n",
       "      <td>2</td>\n",
       "      <td>2</td>\n",
       "    </tr>\n",
       "    <tr>\n",
       "      <th>3</th>\n",
       "      <td>2162</td>\n",
       "      <td>4159</td>\n",
       "      <td>1</td>\n",
       "      <td>1</td>\n",
       "    </tr>\n",
       "    <tr>\n",
       "      <th>4</th>\n",
       "      <td>2202</td>\n",
       "      <td>15918</td>\n",
       "      <td>2</td>\n",
       "      <td>5</td>\n",
       "    </tr>\n",
       "  </tbody>\n",
       "</table>\n",
       "</div>"
      ],
      "text/plain": [
       "   customer_id  total_amt_jan  no_bookings_jan  total_room_nights_jan\n",
       "0          220           3443                2                      2\n",
       "1          765           1949                1                      1\n",
       "2         1864           4288                2                      2\n",
       "3         2162           4159                1                      1\n",
       "4         2202          15918                2                      5"
      ]
     },
     "execution_count": 15,
     "metadata": {},
     "output_type": "execute_result"
    }
   ],
   "source": [
    "jan_df = merged_jan_df.groupby([\"customer_id\"]).agg({\"amount\": ['sum','count'],\"room_nights\":'sum'}).reset_index()\n",
    "jan_df.columns = [' '.join(col).strip() for col in jan_df.columns.values]\n",
    "jan_df.rename(columns={'amount sum': 'total_amt_jan', 'amount count': 'no_bookings_jan',\\\n",
    "                       'room_nights sum':'total_room_nights_jan'}, inplace=True)\n",
    "print jan_df.shape\n",
    "jan_df.head()"
   ]
  },
  {
   "cell_type": "code",
   "execution_count": 16,
   "metadata": {},
   "outputs": [
    {
     "name": "stdout",
     "output_type": "stream",
     "text": [
      "(699, 4)\n"
     ]
    },
    {
     "data": {
      "text/html": [
       "<div>\n",
       "<style>\n",
       "    .dataframe thead tr:only-child th {\n",
       "        text-align: right;\n",
       "    }\n",
       "\n",
       "    .dataframe thead th {\n",
       "        text-align: left;\n",
       "    }\n",
       "\n",
       "    .dataframe tbody tr th {\n",
       "        vertical-align: top;\n",
       "    }\n",
       "</style>\n",
       "<table border=\"1\" class=\"dataframe\">\n",
       "  <thead>\n",
       "    <tr style=\"text-align: right;\">\n",
       "      <th></th>\n",
       "      <th>customer_id</th>\n",
       "      <th>total_amt_feb</th>\n",
       "      <th>no_bookings_feb</th>\n",
       "      <th>total_room_nights_feb</th>\n",
       "    </tr>\n",
       "  </thead>\n",
       "  <tbody>\n",
       "    <tr>\n",
       "      <th>0</th>\n",
       "      <td>211</td>\n",
       "      <td>1754</td>\n",
       "      <td>1</td>\n",
       "      <td>1</td>\n",
       "    </tr>\n",
       "    <tr>\n",
       "      <th>1</th>\n",
       "      <td>292</td>\n",
       "      <td>5719</td>\n",
       "      <td>1</td>\n",
       "      <td>1</td>\n",
       "    </tr>\n",
       "    <tr>\n",
       "      <th>2</th>\n",
       "      <td>1731</td>\n",
       "      <td>1819</td>\n",
       "      <td>1</td>\n",
       "      <td>1</td>\n",
       "    </tr>\n",
       "    <tr>\n",
       "      <th>3</th>\n",
       "      <td>1864</td>\n",
       "      <td>1494</td>\n",
       "      <td>1</td>\n",
       "      <td>1</td>\n",
       "    </tr>\n",
       "    <tr>\n",
       "      <th>4</th>\n",
       "      <td>2029</td>\n",
       "      <td>3119</td>\n",
       "      <td>1</td>\n",
       "      <td>1</td>\n",
       "    </tr>\n",
       "  </tbody>\n",
       "</table>\n",
       "</div>"
      ],
      "text/plain": [
       "   customer_id  total_amt_feb  no_bookings_feb  total_room_nights_feb\n",
       "0          211           1754                1                      1\n",
       "1          292           5719                1                      1\n",
       "2         1731           1819                1                      1\n",
       "3         1864           1494                1                      1\n",
       "4         2029           3119                1                      1"
      ]
     },
     "execution_count": 16,
     "metadata": {},
     "output_type": "execute_result"
    }
   ],
   "source": [
    "feb_df = merged_feb_df.groupby([\"customer_id\"]).agg({\"amount\": ['sum','count'],\"room_nights\":'sum'}).reset_index()\n",
    "feb_df.columns = [' '.join(col).strip() for col in feb_df.columns.values]\n",
    "feb_df.rename(columns={'amount sum': 'total_amt_feb', 'amount count': 'no_bookings_feb',\\\n",
    "                       'room_nights sum':'total_room_nights_feb'}, inplace=True)\n",
    "print feb_df.shape\n",
    "feb_df.head()"
   ]
  },
  {
   "cell_type": "code",
   "execution_count": 17,
   "metadata": {},
   "outputs": [
    {
     "data": {
      "text/html": [
       "<div>\n",
       "<style>\n",
       "    .dataframe thead tr:only-child th {\n",
       "        text-align: right;\n",
       "    }\n",
       "\n",
       "    .dataframe thead th {\n",
       "        text-align: left;\n",
       "    }\n",
       "\n",
       "    .dataframe tbody tr th {\n",
       "        vertical-align: top;\n",
       "    }\n",
       "</style>\n",
       "<table border=\"1\" class=\"dataframe\">\n",
       "  <thead>\n",
       "    <tr style=\"text-align: right;\">\n",
       "      <th></th>\n",
       "      <th>customer_id</th>\n",
       "      <th>total_amt_mar</th>\n",
       "      <th>no_bookings_mar</th>\n",
       "      <th>total_room_nights_mar</th>\n",
       "    </tr>\n",
       "  </thead>\n",
       "  <tbody>\n",
       "    <tr>\n",
       "      <th>0</th>\n",
       "      <td>220</td>\n",
       "      <td>1949</td>\n",
       "      <td>1</td>\n",
       "      <td>1</td>\n",
       "    </tr>\n",
       "    <tr>\n",
       "      <th>1</th>\n",
       "      <td>648</td>\n",
       "      <td>14815</td>\n",
       "      <td>1</td>\n",
       "      <td>4</td>\n",
       "    </tr>\n",
       "    <tr>\n",
       "      <th>2</th>\n",
       "      <td>714</td>\n",
       "      <td>2267</td>\n",
       "      <td>1</td>\n",
       "      <td>1</td>\n",
       "    </tr>\n",
       "    <tr>\n",
       "      <th>3</th>\n",
       "      <td>728</td>\n",
       "      <td>4677</td>\n",
       "      <td>1</td>\n",
       "      <td>2</td>\n",
       "    </tr>\n",
       "    <tr>\n",
       "      <th>4</th>\n",
       "      <td>834</td>\n",
       "      <td>3769</td>\n",
       "      <td>1</td>\n",
       "      <td>1</td>\n",
       "    </tr>\n",
       "  </tbody>\n",
       "</table>\n",
       "</div>"
      ],
      "text/plain": [
       "   customer_id  total_amt_mar  no_bookings_mar  total_room_nights_mar\n",
       "0          220           1949                1                      1\n",
       "1          648          14815                1                      4\n",
       "2          714           2267                1                      1\n",
       "3          728           4677                1                      2\n",
       "4          834           3769                1                      1"
      ]
     },
     "execution_count": 17,
     "metadata": {},
     "output_type": "execute_result"
    }
   ],
   "source": [
    "mar_df = merged_mar_df.groupby([\"customer_id\"]).agg({\"amount\": ['sum','count'],\"room_nights\":'sum'}).reset_index()\n",
    "mar_df.columns = [' '.join(col).strip() for col in mar_df.columns.values]\n",
    "mar_df.rename(columns={'amount sum': 'total_amt_mar', 'amount count': 'no_bookings_mar',\\\n",
    "                       'room_nights sum':'total_room_nights_mar'}, inplace=True)\n",
    "mar_df.head()"
   ]
  },
  {
   "cell_type": "code",
   "execution_count": 18,
   "metadata": {},
   "outputs": [
    {
     "data": {
      "text/html": [
       "<div>\n",
       "<style>\n",
       "    .dataframe thead tr:only-child th {\n",
       "        text-align: right;\n",
       "    }\n",
       "\n",
       "    .dataframe thead th {\n",
       "        text-align: left;\n",
       "    }\n",
       "\n",
       "    .dataframe tbody tr th {\n",
       "        vertical-align: top;\n",
       "    }\n",
       "</style>\n",
       "<table border=\"1\" class=\"dataframe\">\n",
       "  <thead>\n",
       "    <tr style=\"text-align: right;\">\n",
       "      <th></th>\n",
       "      <th>customer_id</th>\n",
       "      <th>total_amt_jan</th>\n",
       "      <th>no_bookings_jan</th>\n",
       "      <th>total_room_nights_jan</th>\n",
       "      <th>total_amt_feb</th>\n",
       "      <th>no_bookings_feb</th>\n",
       "      <th>total_room_nights_feb</th>\n",
       "      <th>total_amt_mar</th>\n",
       "      <th>no_bookings_mar</th>\n",
       "      <th>total_room_nights_mar</th>\n",
       "    </tr>\n",
       "  </thead>\n",
       "  <tbody>\n",
       "    <tr>\n",
       "      <th>0</th>\n",
       "      <td>220</td>\n",
       "      <td>3443.0</td>\n",
       "      <td>2.0</td>\n",
       "      <td>2.0</td>\n",
       "      <td>NaN</td>\n",
       "      <td>NaN</td>\n",
       "      <td>NaN</td>\n",
       "      <td>1949.0</td>\n",
       "      <td>1.0</td>\n",
       "      <td>1.0</td>\n",
       "    </tr>\n",
       "    <tr>\n",
       "      <th>1</th>\n",
       "      <td>765</td>\n",
       "      <td>1949.0</td>\n",
       "      <td>1.0</td>\n",
       "      <td>1.0</td>\n",
       "      <td>NaN</td>\n",
       "      <td>NaN</td>\n",
       "      <td>NaN</td>\n",
       "      <td>NaN</td>\n",
       "      <td>NaN</td>\n",
       "      <td>NaN</td>\n",
       "    </tr>\n",
       "    <tr>\n",
       "      <th>2</th>\n",
       "      <td>1864</td>\n",
       "      <td>4288.0</td>\n",
       "      <td>2.0</td>\n",
       "      <td>2.0</td>\n",
       "      <td>1494.0</td>\n",
       "      <td>1.0</td>\n",
       "      <td>1.0</td>\n",
       "      <td>NaN</td>\n",
       "      <td>NaN</td>\n",
       "      <td>NaN</td>\n",
       "    </tr>\n",
       "    <tr>\n",
       "      <th>3</th>\n",
       "      <td>2162</td>\n",
       "      <td>4159.0</td>\n",
       "      <td>1.0</td>\n",
       "      <td>1.0</td>\n",
       "      <td>NaN</td>\n",
       "      <td>NaN</td>\n",
       "      <td>NaN</td>\n",
       "      <td>NaN</td>\n",
       "      <td>NaN</td>\n",
       "      <td>NaN</td>\n",
       "    </tr>\n",
       "    <tr>\n",
       "      <th>4</th>\n",
       "      <td>2202</td>\n",
       "      <td>15918.0</td>\n",
       "      <td>2.0</td>\n",
       "      <td>5.0</td>\n",
       "      <td>NaN</td>\n",
       "      <td>NaN</td>\n",
       "      <td>NaN</td>\n",
       "      <td>NaN</td>\n",
       "      <td>NaN</td>\n",
       "      <td>NaN</td>\n",
       "    </tr>\n",
       "  </tbody>\n",
       "</table>\n",
       "</div>"
      ],
      "text/plain": [
       "   customer_id  total_amt_jan  no_bookings_jan  total_room_nights_jan  \\\n",
       "0          220         3443.0              2.0                    2.0   \n",
       "1          765         1949.0              1.0                    1.0   \n",
       "2         1864         4288.0              2.0                    2.0   \n",
       "3         2162         4159.0              1.0                    1.0   \n",
       "4         2202        15918.0              2.0                    5.0   \n",
       "\n",
       "   total_amt_feb  no_bookings_feb  total_room_nights_feb  total_amt_mar  \\\n",
       "0            NaN              NaN                    NaN         1949.0   \n",
       "1            NaN              NaN                    NaN            NaN   \n",
       "2         1494.0              1.0                    1.0            NaN   \n",
       "3            NaN              NaN                    NaN            NaN   \n",
       "4            NaN              NaN                    NaN            NaN   \n",
       "\n",
       "   no_bookings_mar  total_room_nights_mar  \n",
       "0              1.0                    1.0  \n",
       "1              NaN                    NaN  \n",
       "2              NaN                    NaN  \n",
       "3              NaN                    NaN  \n",
       "4              NaN                    NaN  "
      ]
     },
     "execution_count": 18,
     "metadata": {},
     "output_type": "execute_result"
    }
   ],
   "source": [
    "merged_df = pd.merge(pd.merge(jan_df, feb_df,on='customer_id',how='outer'),mar_df,on='customer_id',how='outer')\n",
    "merged_df.head()"
   ]
  },
  {
   "cell_type": "code",
   "execution_count": 19,
   "metadata": {},
   "outputs": [
    {
     "data": {
      "text/plain": [
       "(1732, 10)"
      ]
     },
     "execution_count": 19,
     "metadata": {},
     "output_type": "execute_result"
    }
   ],
   "source": [
    "merged_df.shape"
   ]
  },
  {
   "cell_type": "markdown",
   "metadata": {},
   "source": [
    "### Number of people who made the booking in January"
   ]
  },
  {
   "cell_type": "code",
   "execution_count": 20,
   "metadata": {},
   "outputs": [
    {
     "name": "stdout",
     "output_type": "stream",
     "text": [
      "Number of people who made the booking in January 719\n"
     ]
    }
   ],
   "source": [
    "X = merged_df['no_bookings_jan'].count()\n",
    "print \"Number of people who made the booking in January\",X"
   ]
  },
  {
   "cell_type": "markdown",
   "metadata": {},
   "source": [
    "### Number of people who made the booking in February and also in january thus contributing to the return rate"
   ]
  },
  {
   "cell_type": "code",
   "execution_count": 21,
   "metadata": {},
   "outputs": [
    {
     "name": "stdout",
     "output_type": "stream",
     "text": [
      "Number of people who made the booking in Jan and Feb 133\n"
     ]
    }
   ],
   "source": [
    "Y = (merged_df['no_bookings_jan'].notnull() & merged_df['no_bookings_feb'].notnull()).sum()\n",
    "print \"Number of people who made the booking in Jan and Feb\", Y"
   ]
  },
  {
   "cell_type": "code",
   "execution_count": 22,
   "metadata": {},
   "outputs": [
    {
     "name": "stdout",
     "output_type": "stream",
     "text": [
      "The repeat rate in percent is  18.4979137691\n"
     ]
    }
   ],
   "source": [
    "repeat_rate = (Y/float(X))*100\n",
    "print \"The repeat rate in percent is \",repeat_rate"
   ]
  },
  {
   "cell_type": "markdown",
   "metadata": {},
   "source": [
    "### For each city, give the top 3 revenue earning hotels over this time period. (Not separately for Jan, Feb, Mar)"
   ]
  },
  {
   "cell_type": "code",
   "execution_count": 23,
   "metadata": {},
   "outputs": [
    {
     "data": {
      "text/html": [
       "<div>\n",
       "<style>\n",
       "    .dataframe thead tr:only-child th {\n",
       "        text-align: right;\n",
       "    }\n",
       "\n",
       "    .dataframe thead th {\n",
       "        text-align: left;\n",
       "    }\n",
       "\n",
       "    .dataframe tbody tr th {\n",
       "        vertical-align: top;\n",
       "    }\n",
       "</style>\n",
       "<table border=\"1\" class=\"dataframe\">\n",
       "  <thead>\n",
       "    <tr style=\"text-align: right;\">\n",
       "      <th></th>\n",
       "      <th>booking_id</th>\n",
       "      <th>customer_id</th>\n",
       "      <th>source</th>\n",
       "      <th>status</th>\n",
       "      <th>checkin</th>\n",
       "      <th>checkout</th>\n",
       "      <th>oyo_rooms</th>\n",
       "      <th>hotel_id</th>\n",
       "      <th>amount</th>\n",
       "      <th>discount</th>\n",
       "      <th>date</th>\n",
       "      <th>city</th>\n",
       "      <th>room_nights</th>\n",
       "      <th>avg_price_per_room</th>\n",
       "    </tr>\n",
       "  </thead>\n",
       "  <tbody>\n",
       "    <tr>\n",
       "      <th>0</th>\n",
       "      <td>1</td>\n",
       "      <td>189314</td>\n",
       "      <td>4</td>\n",
       "      <td>3</td>\n",
       "      <td>2017-02-04</td>\n",
       "      <td>2017-02-05</td>\n",
       "      <td>1</td>\n",
       "      <td>252</td>\n",
       "      <td>3160</td>\n",
       "      <td>669.0</td>\n",
       "      <td>2017-01-31</td>\n",
       "      <td>Bangalore</td>\n",
       "      <td>1</td>\n",
       "      <td>3160.0</td>\n",
       "    </tr>\n",
       "    <tr>\n",
       "      <th>1</th>\n",
       "      <td>2</td>\n",
       "      <td>46268</td>\n",
       "      <td>4</td>\n",
       "      <td>3</td>\n",
       "      <td>2017-01-27</td>\n",
       "      <td>2017-01-28</td>\n",
       "      <td>1</td>\n",
       "      <td>252</td>\n",
       "      <td>1893</td>\n",
       "      <td>481.0</td>\n",
       "      <td>2017-01-27</td>\n",
       "      <td>Bangalore</td>\n",
       "      <td>1</td>\n",
       "      <td>1893.0</td>\n",
       "    </tr>\n",
       "    <tr>\n",
       "      <th>2</th>\n",
       "      <td>3</td>\n",
       "      <td>55271</td>\n",
       "      <td>3</td>\n",
       "      <td>2</td>\n",
       "      <td>2017-01-25</td>\n",
       "      <td>2017-01-26</td>\n",
       "      <td>1</td>\n",
       "      <td>252</td>\n",
       "      <td>2188</td>\n",
       "      <td>463.0</td>\n",
       "      <td>2017-01-25</td>\n",
       "      <td>Bangalore</td>\n",
       "      <td>1</td>\n",
       "      <td>2188.0</td>\n",
       "    </tr>\n",
       "    <tr>\n",
       "      <th>3</th>\n",
       "      <td>4</td>\n",
       "      <td>170766</td>\n",
       "      <td>4</td>\n",
       "      <td>3</td>\n",
       "      <td>2017-01-26</td>\n",
       "      <td>2017-01-27</td>\n",
       "      <td>1</td>\n",
       "      <td>252</td>\n",
       "      <td>3054</td>\n",
       "      <td>646.0</td>\n",
       "      <td>2017-01-26</td>\n",
       "      <td>Bangalore</td>\n",
       "      <td>1</td>\n",
       "      <td>3054.0</td>\n",
       "    </tr>\n",
       "    <tr>\n",
       "      <th>4</th>\n",
       "      <td>5</td>\n",
       "      <td>170766</td>\n",
       "      <td>4</td>\n",
       "      <td>3</td>\n",
       "      <td>2017-01-26</td>\n",
       "      <td>2017-01-28</td>\n",
       "      <td>1</td>\n",
       "      <td>252</td>\n",
       "      <td>6107</td>\n",
       "      <td>1293.0</td>\n",
       "      <td>2017-01-25</td>\n",
       "      <td>Bangalore</td>\n",
       "      <td>2</td>\n",
       "      <td>3053.5</td>\n",
       "    </tr>\n",
       "  </tbody>\n",
       "</table>\n",
       "</div>"
      ],
      "text/plain": [
       "   booking_id  customer_id  source  status    checkin   checkout  oyo_rooms  \\\n",
       "0           1       189314       4       3 2017-02-04 2017-02-05          1   \n",
       "1           2        46268       4       3 2017-01-27 2017-01-28          1   \n",
       "2           3        55271       3       2 2017-01-25 2017-01-26          1   \n",
       "3           4       170766       4       3 2017-01-26 2017-01-27          1   \n",
       "4           5       170766       4       3 2017-01-26 2017-01-28          1   \n",
       "\n",
       "   hotel_id  amount  discount       date       city  room_nights  \\\n",
       "0       252    3160     669.0 2017-01-31  Bangalore            1   \n",
       "1       252    1893     481.0 2017-01-27  Bangalore            1   \n",
       "2       252    2188     463.0 2017-01-25  Bangalore            1   \n",
       "3       252    3054     646.0 2017-01-26  Bangalore            1   \n",
       "4       252    6107    1293.0 2017-01-25  Bangalore            2   \n",
       "\n",
       "   avg_price_per_room  \n",
       "0              3160.0  \n",
       "1              1893.0  \n",
       "2              2188.0  \n",
       "3              3054.0  \n",
       "4              3053.5  "
      ]
     },
     "execution_count": 23,
     "metadata": {},
     "output_type": "execute_result"
    }
   ],
   "source": [
    "merged_jan_df.head()"
   ]
  },
  {
   "cell_type": "code",
   "execution_count": 24,
   "metadata": {},
   "outputs": [
    {
     "data": {
      "text/plain": [
       "booking_id            1000\n",
       "customer_id           1000\n",
       "source                1000\n",
       "status                1000\n",
       "checkin               1000\n",
       "checkout              1000\n",
       "oyo_rooms             1000\n",
       "hotel_id              1000\n",
       "amount                1000\n",
       "discount               979\n",
       "date                  1000\n",
       "city                  1000\n",
       "room_nights           1000\n",
       "avg_price_per_room    1000\n",
       "dtype: int64"
      ]
     },
     "execution_count": 24,
     "metadata": {},
     "output_type": "execute_result"
    }
   ],
   "source": [
    "merged_jan_df.count()"
   ]
  },
  {
   "cell_type": "code",
   "execution_count": 25,
   "metadata": {},
   "outputs": [
    {
     "name": "stdout",
     "output_type": "stream",
     "text": [
      "(242, 3)\n",
      "hotel_id         242\n",
      "city             242\n",
      "total_amt_jan    242\n",
      "dtype: int64\n"
     ]
    },
    {
     "data": {
      "text/html": [
       "<div>\n",
       "<style>\n",
       "    .dataframe thead tr:only-child th {\n",
       "        text-align: right;\n",
       "    }\n",
       "\n",
       "    .dataframe thead th {\n",
       "        text-align: left;\n",
       "    }\n",
       "\n",
       "    .dataframe tbody tr th {\n",
       "        vertical-align: top;\n",
       "    }\n",
       "</style>\n",
       "<table border=\"1\" class=\"dataframe\">\n",
       "  <thead>\n",
       "    <tr style=\"text-align: right;\">\n",
       "      <th></th>\n",
       "      <th>hotel_id</th>\n",
       "      <th>city</th>\n",
       "      <th>total_amt_jan</th>\n",
       "    </tr>\n",
       "  </thead>\n",
       "  <tbody>\n",
       "    <tr>\n",
       "      <th>0</th>\n",
       "      <td>3</td>\n",
       "      <td>Gurgaon</td>\n",
       "      <td>118875</td>\n",
       "    </tr>\n",
       "    <tr>\n",
       "      <th>1</th>\n",
       "      <td>13</td>\n",
       "      <td>Gurgaon</td>\n",
       "      <td>15201</td>\n",
       "    </tr>\n",
       "    <tr>\n",
       "      <th>2</th>\n",
       "      <td>16</td>\n",
       "      <td>Gurgaon</td>\n",
       "      <td>14684</td>\n",
       "    </tr>\n",
       "    <tr>\n",
       "      <th>3</th>\n",
       "      <td>21</td>\n",
       "      <td>Gurgaon</td>\n",
       "      <td>12604</td>\n",
       "    </tr>\n",
       "    <tr>\n",
       "      <th>4</th>\n",
       "      <td>25</td>\n",
       "      <td>Delhi</td>\n",
       "      <td>6498</td>\n",
       "    </tr>\n",
       "  </tbody>\n",
       "</table>\n",
       "</div>"
      ],
      "text/plain": [
       "   hotel_id     city  total_amt_jan\n",
       "0         3  Gurgaon         118875\n",
       "1        13  Gurgaon          15201\n",
       "2        16  Gurgaon          14684\n",
       "3        21  Gurgaon          12604\n",
       "4        25    Delhi           6498"
      ]
     },
     "execution_count": 25,
     "metadata": {},
     "output_type": "execute_result"
    }
   ],
   "source": [
    "jan_hotel_df = merged_jan_df.groupby([\"hotel_id\",\"city\"]).agg({\"amount\": ['sum']}).reset_index()\n",
    "jan_hotel_df.columns = [' '.join(col).strip() for col in jan_hotel_df.columns.values]\n",
    "jan_hotel_df.rename(columns={'amount sum': 'total_amt_jan'}, inplace=True)\n",
    "print jan_hotel_df.shape\n",
    "print jan_hotel_df.count()\n",
    "jan_hotel_df.head()"
   ]
  },
  {
   "cell_type": "code",
   "execution_count": 26,
   "metadata": {},
   "outputs": [
    {
     "name": "stdout",
     "output_type": "stream",
     "text": [
      "(252, 3)\n"
     ]
    },
    {
     "data": {
      "text/html": [
       "<div>\n",
       "<style>\n",
       "    .dataframe thead tr:only-child th {\n",
       "        text-align: right;\n",
       "    }\n",
       "\n",
       "    .dataframe thead th {\n",
       "        text-align: left;\n",
       "    }\n",
       "\n",
       "    .dataframe tbody tr th {\n",
       "        vertical-align: top;\n",
       "    }\n",
       "</style>\n",
       "<table border=\"1\" class=\"dataframe\">\n",
       "  <thead>\n",
       "    <tr style=\"text-align: right;\">\n",
       "      <th></th>\n",
       "      <th>hotel_id</th>\n",
       "      <th>city</th>\n",
       "      <th>total_amt_feb</th>\n",
       "    </tr>\n",
       "  </thead>\n",
       "  <tbody>\n",
       "    <tr>\n",
       "      <th>0</th>\n",
       "      <td>3</td>\n",
       "      <td>Gurgaon</td>\n",
       "      <td>9096</td>\n",
       "    </tr>\n",
       "    <tr>\n",
       "      <th>1</th>\n",
       "      <td>13</td>\n",
       "      <td>Gurgaon</td>\n",
       "      <td>40797</td>\n",
       "    </tr>\n",
       "    <tr>\n",
       "      <th>2</th>\n",
       "      <td>16</td>\n",
       "      <td>Gurgaon</td>\n",
       "      <td>16894</td>\n",
       "    </tr>\n",
       "    <tr>\n",
       "      <th>3</th>\n",
       "      <td>21</td>\n",
       "      <td>Gurgaon</td>\n",
       "      <td>24299</td>\n",
       "    </tr>\n",
       "    <tr>\n",
       "      <th>4</th>\n",
       "      <td>25</td>\n",
       "      <td>Delhi</td>\n",
       "      <td>45611</td>\n",
       "    </tr>\n",
       "  </tbody>\n",
       "</table>\n",
       "</div>"
      ],
      "text/plain": [
       "   hotel_id     city  total_amt_feb\n",
       "0         3  Gurgaon           9096\n",
       "1        13  Gurgaon          40797\n",
       "2        16  Gurgaon          16894\n",
       "3        21  Gurgaon          24299\n",
       "4        25    Delhi          45611"
      ]
     },
     "execution_count": 26,
     "metadata": {},
     "output_type": "execute_result"
    }
   ],
   "source": [
    "feb_hotel_df = merged_feb_df.groupby([\"hotel_id\",\"city\"]).agg({\"amount\": ['sum']}).reset_index()\n",
    "feb_hotel_df.columns = [' '.join(col).strip() for col in feb_hotel_df.columns.values]\n",
    "feb_hotel_df.rename(columns={'amount sum': 'total_amt_feb'}, inplace=True)\n",
    "print feb_hotel_df.shape\n",
    "feb_hotel_df.head()"
   ]
  },
  {
   "cell_type": "code",
   "execution_count": 27,
   "metadata": {},
   "outputs": [
    {
     "name": "stdout",
     "output_type": "stream",
     "text": [
      "(252, 3)\n"
     ]
    },
    {
     "data": {
      "text/html": [
       "<div>\n",
       "<style>\n",
       "    .dataframe thead tr:only-child th {\n",
       "        text-align: right;\n",
       "    }\n",
       "\n",
       "    .dataframe thead th {\n",
       "        text-align: left;\n",
       "    }\n",
       "\n",
       "    .dataframe tbody tr th {\n",
       "        vertical-align: top;\n",
       "    }\n",
       "</style>\n",
       "<table border=\"1\" class=\"dataframe\">\n",
       "  <thead>\n",
       "    <tr style=\"text-align: right;\">\n",
       "      <th></th>\n",
       "      <th>hotel_id</th>\n",
       "      <th>city</th>\n",
       "      <th>total_amt_mar</th>\n",
       "    </tr>\n",
       "  </thead>\n",
       "  <tbody>\n",
       "    <tr>\n",
       "      <th>0</th>\n",
       "      <td>3</td>\n",
       "      <td>Gurgaon</td>\n",
       "      <td>4418</td>\n",
       "    </tr>\n",
       "    <tr>\n",
       "      <th>1</th>\n",
       "      <td>13</td>\n",
       "      <td>Gurgaon</td>\n",
       "      <td>28519</td>\n",
       "    </tr>\n",
       "    <tr>\n",
       "      <th>2</th>\n",
       "      <td>16</td>\n",
       "      <td>Gurgaon</td>\n",
       "      <td>2599</td>\n",
       "    </tr>\n",
       "    <tr>\n",
       "      <th>3</th>\n",
       "      <td>21</td>\n",
       "      <td>Gurgaon</td>\n",
       "      <td>4678</td>\n",
       "    </tr>\n",
       "    <tr>\n",
       "      <th>4</th>\n",
       "      <td>25</td>\n",
       "      <td>Delhi</td>\n",
       "      <td>20362</td>\n",
       "    </tr>\n",
       "  </tbody>\n",
       "</table>\n",
       "</div>"
      ],
      "text/plain": [
       "   hotel_id     city  total_amt_mar\n",
       "0         3  Gurgaon           4418\n",
       "1        13  Gurgaon          28519\n",
       "2        16  Gurgaon           2599\n",
       "3        21  Gurgaon           4678\n",
       "4        25    Delhi          20362"
      ]
     },
     "execution_count": 27,
     "metadata": {},
     "output_type": "execute_result"
    }
   ],
   "source": [
    "mar_hotel_df = merged_mar_df.groupby([\"hotel_id\",\"city\"]).agg({\"amount\": ['sum']}).reset_index()\n",
    "mar_hotel_df.columns = [' '.join(col).strip() for col in mar_hotel_df.columns.values]\n",
    "mar_hotel_df.rename(columns={'amount sum': 'total_amt_mar'}, inplace=True)\n",
    "print mar_hotel_df.shape\n",
    "mar_hotel_df.head()"
   ]
  },
  {
   "cell_type": "code",
   "execution_count": 28,
   "metadata": {},
   "outputs": [
    {
     "name": "stdout",
     "output_type": "stream",
     "text": [
      "Shape of the merged df is -  (242, 5)\n"
     ]
    }
   ],
   "source": [
    "merged_hotel_df = pd.merge(pd.merge(jan_hotel_df,feb_hotel_df,how='left',left_on=['hotel_id','city'],\n",
    "                  right_on = ['hotel_id','city']),mar_hotel_df, how='left', \n",
    "                  left_on=['hotel_id','city'],right_on = ['hotel_id','city'])\n",
    "print \"Shape of the merged df is - \", merged_hotel_df.shape"
   ]
  },
  {
   "cell_type": "code",
   "execution_count": 29,
   "metadata": {},
   "outputs": [
    {
     "data": {
      "text/html": [
       "<div>\n",
       "<style>\n",
       "    .dataframe thead tr:only-child th {\n",
       "        text-align: right;\n",
       "    }\n",
       "\n",
       "    .dataframe thead th {\n",
       "        text-align: left;\n",
       "    }\n",
       "\n",
       "    .dataframe tbody tr th {\n",
       "        vertical-align: top;\n",
       "    }\n",
       "</style>\n",
       "<table border=\"1\" class=\"dataframe\">\n",
       "  <thead>\n",
       "    <tr style=\"text-align: right;\">\n",
       "      <th></th>\n",
       "      <th>hotel_id</th>\n",
       "      <th>city</th>\n",
       "      <th>total_amt_jan</th>\n",
       "      <th>total_amt_feb</th>\n",
       "      <th>total_amt_mar</th>\n",
       "    </tr>\n",
       "  </thead>\n",
       "  <tbody>\n",
       "    <tr>\n",
       "      <th>0</th>\n",
       "      <td>3</td>\n",
       "      <td>Gurgaon</td>\n",
       "      <td>118875</td>\n",
       "      <td>9096.0</td>\n",
       "      <td>4418.0</td>\n",
       "    </tr>\n",
       "    <tr>\n",
       "      <th>1</th>\n",
       "      <td>13</td>\n",
       "      <td>Gurgaon</td>\n",
       "      <td>15201</td>\n",
       "      <td>40797.0</td>\n",
       "      <td>28519.0</td>\n",
       "    </tr>\n",
       "    <tr>\n",
       "      <th>2</th>\n",
       "      <td>16</td>\n",
       "      <td>Gurgaon</td>\n",
       "      <td>14684</td>\n",
       "      <td>16894.0</td>\n",
       "      <td>2599.0</td>\n",
       "    </tr>\n",
       "    <tr>\n",
       "      <th>3</th>\n",
       "      <td>21</td>\n",
       "      <td>Gurgaon</td>\n",
       "      <td>12604</td>\n",
       "      <td>24299.0</td>\n",
       "      <td>4678.0</td>\n",
       "    </tr>\n",
       "    <tr>\n",
       "      <th>4</th>\n",
       "      <td>25</td>\n",
       "      <td>Delhi</td>\n",
       "      <td>6498</td>\n",
       "      <td>45611.0</td>\n",
       "      <td>20362.0</td>\n",
       "    </tr>\n",
       "  </tbody>\n",
       "</table>\n",
       "</div>"
      ],
      "text/plain": [
       "   hotel_id     city  total_amt_jan  total_amt_feb  total_amt_mar\n",
       "0         3  Gurgaon         118875         9096.0         4418.0\n",
       "1        13  Gurgaon          15201        40797.0        28519.0\n",
       "2        16  Gurgaon          14684        16894.0         2599.0\n",
       "3        21  Gurgaon          12604        24299.0         4678.0\n",
       "4        25    Delhi           6498        45611.0        20362.0"
      ]
     },
     "execution_count": 29,
     "metadata": {},
     "output_type": "execute_result"
    }
   ],
   "source": [
    "merged_hotel_df.head()"
   ]
  },
  {
   "cell_type": "code",
   "execution_count": 30,
   "metadata": {},
   "outputs": [
    {
     "data": {
      "text/plain": [
       "hotel_id         242\n",
       "city             242\n",
       "total_amt_jan    242\n",
       "total_amt_feb    184\n",
       "total_amt_mar    165\n",
       "dtype: int64"
      ]
     },
     "execution_count": 30,
     "metadata": {},
     "output_type": "execute_result"
    }
   ],
   "source": [
    "merged_hotel_df.count()"
   ]
  },
  {
   "cell_type": "code",
   "execution_count": 31,
   "metadata": {},
   "outputs": [],
   "source": [
    "merged_hotel_df.fillna(value=0,inplace=True)"
   ]
  },
  {
   "cell_type": "code",
   "execution_count": 32,
   "metadata": {},
   "outputs": [
    {
     "data": {
      "text/plain": [
       "hotel_id         242\n",
       "city             242\n",
       "total_amt_jan    242\n",
       "total_amt_feb    242\n",
       "total_amt_mar    242\n",
       "dtype: int64"
      ]
     },
     "execution_count": 32,
     "metadata": {},
     "output_type": "execute_result"
    }
   ],
   "source": [
    "merged_hotel_df.count()"
   ]
  },
  {
   "cell_type": "code",
   "execution_count": 33,
   "metadata": {},
   "outputs": [
    {
     "data": {
      "text/html": [
       "<div>\n",
       "<style>\n",
       "    .dataframe thead tr:only-child th {\n",
       "        text-align: right;\n",
       "    }\n",
       "\n",
       "    .dataframe thead th {\n",
       "        text-align: left;\n",
       "    }\n",
       "\n",
       "    .dataframe tbody tr th {\n",
       "        vertical-align: top;\n",
       "    }\n",
       "</style>\n",
       "<table border=\"1\" class=\"dataframe\">\n",
       "  <thead>\n",
       "    <tr style=\"text-align: right;\">\n",
       "      <th></th>\n",
       "      <th>hotel_id</th>\n",
       "      <th>city</th>\n",
       "      <th>total_amt_jan</th>\n",
       "      <th>total_amt_feb</th>\n",
       "      <th>total_amt_mar</th>\n",
       "      <th>total_3_months</th>\n",
       "    </tr>\n",
       "  </thead>\n",
       "  <tbody>\n",
       "    <tr>\n",
       "      <th>0</th>\n",
       "      <td>3</td>\n",
       "      <td>Gurgaon</td>\n",
       "      <td>118875</td>\n",
       "      <td>9096.0</td>\n",
       "      <td>4418.0</td>\n",
       "      <td>132389.0</td>\n",
       "    </tr>\n",
       "    <tr>\n",
       "      <th>1</th>\n",
       "      <td>13</td>\n",
       "      <td>Gurgaon</td>\n",
       "      <td>15201</td>\n",
       "      <td>40797.0</td>\n",
       "      <td>28519.0</td>\n",
       "      <td>84517.0</td>\n",
       "    </tr>\n",
       "    <tr>\n",
       "      <th>2</th>\n",
       "      <td>16</td>\n",
       "      <td>Gurgaon</td>\n",
       "      <td>14684</td>\n",
       "      <td>16894.0</td>\n",
       "      <td>2599.0</td>\n",
       "      <td>34177.0</td>\n",
       "    </tr>\n",
       "    <tr>\n",
       "      <th>3</th>\n",
       "      <td>21</td>\n",
       "      <td>Gurgaon</td>\n",
       "      <td>12604</td>\n",
       "      <td>24299.0</td>\n",
       "      <td>4678.0</td>\n",
       "      <td>41581.0</td>\n",
       "    </tr>\n",
       "    <tr>\n",
       "      <th>4</th>\n",
       "      <td>25</td>\n",
       "      <td>Delhi</td>\n",
       "      <td>6498</td>\n",
       "      <td>45611.0</td>\n",
       "      <td>20362.0</td>\n",
       "      <td>72471.0</td>\n",
       "    </tr>\n",
       "  </tbody>\n",
       "</table>\n",
       "</div>"
      ],
      "text/plain": [
       "   hotel_id     city  total_amt_jan  total_amt_feb  total_amt_mar  \\\n",
       "0         3  Gurgaon         118875         9096.0         4418.0   \n",
       "1        13  Gurgaon          15201        40797.0        28519.0   \n",
       "2        16  Gurgaon          14684        16894.0         2599.0   \n",
       "3        21  Gurgaon          12604        24299.0         4678.0   \n",
       "4        25    Delhi           6498        45611.0        20362.0   \n",
       "\n",
       "   total_3_months  \n",
       "0        132389.0  \n",
       "1         84517.0  \n",
       "2         34177.0  \n",
       "3         41581.0  \n",
       "4         72471.0  "
      ]
     },
     "execution_count": 33,
     "metadata": {},
     "output_type": "execute_result"
    }
   ],
   "source": [
    "merged_hotel_df['total_3_months'] = merged_hotel_df['total_amt_jan']+merged_hotel_df['total_amt_feb']\\\n",
    "                                    + merged_hotel_df['total_amt_mar']\n",
    "merged_hotel_df.head()"
   ]
  },
  {
   "cell_type": "code",
   "execution_count": 34,
   "metadata": {},
   "outputs": [
    {
     "data": {
      "text/plain": [
       "city          \n",
       "Bangalore  22     183999.0\n",
       "           163    158902.0\n",
       "           27     150401.0\n",
       "Chennai    191    178729.0\n",
       "           237     67907.0\n",
       "           86      37376.0\n",
       "Delhi      97     170340.0\n",
       "           93     157504.0\n",
       "           89     120924.0\n",
       "Gurgaon    106    177968.0\n",
       "           7      151725.0\n",
       "           128    136406.0\n",
       "Hyderabad  193     58151.0\n",
       "           194     50409.0\n",
       "           240     49447.0\n",
       "Jaipur     197     56537.0\n",
       "           175     47357.0\n",
       "           34      44580.0\n",
       "Kolkata    92      29241.0\n",
       "           229     12281.0\n",
       "           115      9485.0\n",
       "Mumbai     33     143225.0\n",
       "           84     138677.0\n",
       "           207    133563.0\n",
       "Noida      49     222381.0\n",
       "           187     59064.0\n",
       "           81      57940.0\n",
       "Pune       169    107255.0\n",
       "           200     38925.0\n",
       "           173     34631.0\n",
       "Name: total_3_months, dtype: float64"
      ]
     },
     "execution_count": 34,
     "metadata": {},
     "output_type": "execute_result"
    }
   ],
   "source": [
    "merged_hotel_df.groupby('city')['total_3_months'].nlargest(3)"
   ]
  }
 ],
 "metadata": {
  "kernelspec": {
   "display_name": "Python 2",
   "language": "python",
   "name": "python2"
  },
  "language_info": {
   "codemirror_mode": {
    "name": "ipython",
    "version": 2
   },
   "file_extension": ".py",
   "mimetype": "text/x-python",
   "name": "python",
   "nbconvert_exporter": "python",
   "pygments_lexer": "ipython2",
   "version": "2.7.13"
  }
 },
 "nbformat": 4,
 "nbformat_minor": 2
}
